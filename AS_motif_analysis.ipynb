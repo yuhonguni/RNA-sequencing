{
 "cells": [
  {
   "cell_type": "code",
   "execution_count": 11,
   "metadata": {},
   "outputs": [],
   "source": [
    "#!/usr/bin/env python\n",
    "# coding: utf-8\n",
    "from Bio import Entrez, SeqIO\n",
    "from Bio.Seq import Seq\n",
    "from Bio.SeqRecord import SeqRecord\n",
    "import numpy as np\n",
    "import pandas as pd"
   ]
  },
  {
   "cell_type": "code",
   "execution_count": 3,
   "metadata": {},
   "outputs": [],
   "source": [
    "def get_dna_sequence(chr_id,start,stop, stran):\n",
    "    Entrez.email = \"yuhonguni@gmail.com\"  #always tells NCBI who you are\n",
    "    handle = Entrez.efetch(db=\"nucleotide\", \n",
    "                           id=chr_id, \n",
    "                           rettype=\"fasta\", \n",
    "                           strand=stran, \n",
    "                           seq_start=start, \n",
    "                           seq_stop=stop)\n",
    "    record = SeqIO.read(handle, \"fasta\")\n",
    "    handle.close()\n",
    "    return(record)"
   ]
  },
  {
   "cell_type": "code",
   "execution_count": 4,
   "metadata": {},
   "outputs": [],
   "source": [
    "human_chr_ID = {'chr1':'NC_000001.11',\n",
    "               'chr2':'NC_000002.12',\n",
    "               'chr3':'NC_000003.12',\n",
    "               'chr4':'NC_000004.12',\n",
    "               'chr5':'NC_000005.10',\n",
    "               'chr6':'NC_000006.12',\n",
    "               'chr7':'NC_000007.14',\n",
    "               'chr8':'NC_000008.11',\n",
    "               'chr9':'NC_000009.12',\n",
    "               'chr10':'NC_000010.11',\n",
    "               'chr11':'NC_000011.10',\n",
    "               'chr12':'NC_000012.12',\n",
    "               'chr13':'NC_000013.11',\n",
    "               'chr14':'NC_000014.09',\n",
    "               'chr15':'NC_000015.10',\n",
    "               'chr16':'NC_000016.10',\n",
    "               'chr17':'NC_000017.11',\n",
    "               'chr18':'NC_000018.10',\n",
    "               'chr19':'NC_000019.10',\n",
    "               'chr20':'NC_000020.11',\n",
    "               'chr21':'NC_000021.09',\n",
    "               'chr22':'NC_000022.11',\n",
    "               'chrX':'NC_000023.11',\n",
    "               'chrY':'NC_000024.10'}"
   ]
  },
  {
   "cell_type": "code",
   "execution_count": 5,
   "metadata": {},
   "outputs": [],
   "source": [
    "#transform the consensus sequences to instance sequences\n",
    "\n",
    "def append_all(s1, s2):  # append all elements in s2 to each element in s1 respectively. \n",
    "    s3 = []\n",
    "    if len(s1) == 0:  # special case: s1 is empty, then len(s1) is 0\n",
    "        s3 = s2\n",
    "    else:\n",
    "        for i in range(0, len(s1)):\n",
    "            for j in range(0, len(s2)):\n",
    "                s3.append(s1[i] + s2[j])\n",
    "    return(s3)\n",
    "\n",
    "def consensus_to_instances(consensus_seq):\n",
    "    dict_decode = {'A':['A'], \n",
    "                   'T':['T'], \n",
    "                   'C':['C'], \n",
    "                   'G':['G'],\n",
    "                  'R': ['G', 'A'],\n",
    "                  'Y': ['T', 'C'],\n",
    "                  'M': ['A', 'C'],\n",
    "                  'K': ['G', 'T'],\n",
    "                   'S': ['G', 'C'],\n",
    "                   'W': ['A', 'T'],\n",
    "                   'H': ['A', 'C', 'T'],\n",
    "                   'B': ['G', 'T', 'C'],\n",
    "                   'V': ['G', 'C', 'A'],\n",
    "                   'D': ['G', 'A', 'T'],\n",
    "                   'N': ['G', 'A', 'T', 'C']}\n",
    "    motif_instances = []\n",
    "    for motif in consensus_seq:  # loop each letter in consensus_seq (named as 'motif')\n",
    "        instances = dict_decode[motif]  # get the corresponding instance letters\n",
    "        motif_instances = append_all(motif_instances, instances)  # append all instances to the current motif_instances\n",
    "    return(motif_instances)"
   ]
  },
  {
   "cell_type": "code",
   "execution_count": 1,
   "metadata": {},
   "outputs": [
    {
     "ename": "NameError",
     "evalue": "name 'pd' is not defined",
     "output_type": "error",
     "traceback": [
      "\u001b[0;31m---------------------------------------------------------------------------\u001b[0m",
      "\u001b[0;31mNameError\u001b[0m                                 Traceback (most recent call last)",
      "\u001b[0;32m<ipython-input-1-6a61f4212e6c>\u001b[0m in \u001b[0;36m<module>\u001b[0;34m\u001b[0m\n\u001b[1;32m      1\u001b[0m \u001b[0;31m# input RNA regulatory motif information\u001b[0m\u001b[0;34m\u001b[0m\u001b[0;34m\u001b[0m\u001b[0;34m\u001b[0m\u001b[0m\n\u001b[0;32m----> 2\u001b[0;31m \u001b[0mas_motif\u001b[0m \u001b[0;34m=\u001b[0m \u001b[0mpd\u001b[0m\u001b[0;34m.\u001b[0m\u001b[0mread_csv\u001b[0m\u001b[0;34m(\u001b[0m\u001b[0;34m'/home/yu/python_script/AS_motif.csv'\u001b[0m\u001b[0;34m,\u001b[0m\u001b[0msep\u001b[0m \u001b[0;34m=\u001b[0m \u001b[0;34m';'\u001b[0m\u001b[0;34m)\u001b[0m\u001b[0;34m\u001b[0m\u001b[0;34m\u001b[0m\u001b[0m\n\u001b[0m\u001b[1;32m      3\u001b[0m \u001b[0mi\u001b[0m \u001b[0;34m=\u001b[0m \u001b[0;36m1\u001b[0m\u001b[0;34m\u001b[0m\u001b[0;34m\u001b[0m\u001b[0m\n\u001b[1;32m      4\u001b[0m \u001b[0;32mwhile\u001b[0m \u001b[0mi\u001b[0m \u001b[0;34m<\u001b[0m \u001b[0mlen\u001b[0m\u001b[0;34m(\u001b[0m\u001b[0mas_motif\u001b[0m\u001b[0;34m)\u001b[0m\u001b[0;34m:\u001b[0m\u001b[0;34m\u001b[0m\u001b[0;34m\u001b[0m\u001b[0m\n\u001b[1;32m      5\u001b[0m     \u001b[0;32mif\u001b[0m \u001b[0mnp\u001b[0m\u001b[0;34m.\u001b[0m\u001b[0misnan\u001b[0m\u001b[0;34m(\u001b[0m\u001b[0mas_motif\u001b[0m\u001b[0;34m.\u001b[0m\u001b[0miloc\u001b[0m\u001b[0;34m[\u001b[0m\u001b[0mi\u001b[0m\u001b[0;34m,\u001b[0m\u001b[0;36m0\u001b[0m\u001b[0;34m]\u001b[0m\u001b[0;34m)\u001b[0m\u001b[0;34m:\u001b[0m\u001b[0;34m\u001b[0m\u001b[0;34m\u001b[0m\u001b[0m\n",
      "\u001b[0;31mNameError\u001b[0m: name 'pd' is not defined"
     ]
    }
   ],
   "source": [
    "# input RNA regulatory motif information \n",
    "as_motif = pd.read_csv('/home/yu/python_script/AS_motif.csv',sep = ';')\n",
    "i = 1\n",
    "while i < len(as_motif):\n",
    "    if np.isnan(as_motif.iloc[i,0]):\n",
    "        as_motif.loc[i-1,'Sequence'] = as_motif.loc[i-1,'Sequence'] + as_motif.loc[i,'Sequence']\n",
    "        as_motif.drop(i,axis = 0,inplace=True)\n",
    "        as_motif.reset_index(drop = True,inplace=True)      \n",
    "    else:\n",
    "        i = i + 1"
   ]
  },
  {
   "cell_type": "code",
   "execution_count": 10,
   "metadata": {},
   "outputs": [],
   "source": [
    "#Transform all the consensus sequences to instances and stored in a dictionary\n",
    "motif_dic = dict()\n",
    "for i in range(0,len(as_motif)):\n",
    "    a = str(as_motif.loc[i,'AEDBMotif ID'])\n",
    "    b = as_motif.loc[i,'Type']\n",
    "    c = as_motif.loc[i,'Organism']\n",
    "    d = as_motif.loc[i,'Sequence']\n",
    "    c = a + '-' + b + '-' + c + '-' + d\n",
    "    motif_dic[c] = consensus_to_instances(d)"
   ]
  }
 ],
 "metadata": {
  "kernelspec": {
   "display_name": "Python 2",
   "language": "python",
   "name": "python2"
  },
  "language_info": {
   "codemirror_mode": {
    "name": "ipython",
    "version": 3
   },
   "file_extension": ".py",
   "mimetype": "text/x-python",
   "name": "python",
   "nbconvert_exporter": "python",
   "pygments_lexer": "ipython3",
   "version": "3.7.4"
  }
 },
 "nbformat": 4,
 "nbformat_minor": 2
}
